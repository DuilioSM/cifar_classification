{
  "metadata": {
    "kernelspec": {
      "display_name": "Python 3",
      "name": "python3"
    },
    "language_info": {
      "name": "python",
      "version": "3.10.13",
      "mimetype": "text/x-python",
      "codemirror_mode": {
        "name": "ipython",
        "version": 3
      },
      "pygments_lexer": "ipython3",
      "nbconvert_exporter": "python",
      "file_extension": ".py"
    },
    "kaggle": {
      "accelerator": "nvidiaTeslaT4",
      "dataSources": [],
      "dockerImageVersionId": 30732,
      "isInternetEnabled": true,
      "language": "python",
      "sourceType": "notebook",
      "isGpuEnabled": true
    },
    "colab": {
      "name": "cifar classification",
      "provenance": [],
      "gpuType": "T4",
      "include_colab_link": true
    },
    "accelerator": "GPU"
  },
  "nbformat_minor": 0,
  "nbformat": 4,
  "cells": [
    {
      "cell_type": "markdown",
      "metadata": {
        "id": "view-in-github",
        "colab_type": "text"
      },
      "source": [
        "<a href=\"https://colab.research.google.com/github/DuilioSM/cifar_classification/blob/main/cifar_classification.ipynb\" target=\"_parent\"><img src=\"https://colab.research.google.com/assets/colab-badge.svg\" alt=\"Open In Colab\"/></a>"
      ]
    },
    {
      "cell_type": "code",
      "source": [
        "from tensorflow import keras\n",
        "from tensorflow.keras.utils import to_categorical\n",
        "from tensorflow.keras import regularizers\n",
        "from tensorflow.keras.models import Sequential\n",
        "from tensorflow.keras.layers import Conv2D, MaxPooling2D, Flatten, Dense, Dropout, Activation\n",
        "from tensorflow.keras.datasets import cifar10"
      ],
      "metadata": {
        "execution": {
          "iopub.status.busy": "2024-06-11T19:46:58.193827Z",
          "iopub.execute_input": "2024-06-11T19:46:58.194117Z",
          "iopub.status.idle": "2024-06-11T19:47:11.886623Z",
          "shell.execute_reply.started": "2024-06-11T19:46:58.194091Z",
          "shell.execute_reply": "2024-06-11T19:47:11.885776Z"
        },
        "trusted": true,
        "id": "hyP8_2-3BhNr"
      },
      "execution_count": 1,
      "outputs": []
    },
    {
      "cell_type": "code",
      "source": [
        "import numpy as np\n",
        "import matplotlib.pyplot as plt"
      ],
      "metadata": {
        "execution": {
          "iopub.status.busy": "2024-06-11T19:47:11.888311Z",
          "iopub.execute_input": "2024-06-11T19:47:11.888824Z",
          "iopub.status.idle": "2024-06-11T19:47:11.893097Z",
          "shell.execute_reply.started": "2024-06-11T19:47:11.888797Z",
          "shell.execute_reply": "2024-06-11T19:47:11.892022Z"
        },
        "trusted": true,
        "id": "DjrLX7vWBhNu"
      },
      "execution_count": 2,
      "outputs": []
    },
    {
      "cell_type": "code",
      "source": [
        "(x_train, y_train), (x_test, y_test) = cifar10.load_data()"
      ],
      "metadata": {
        "execution": {
          "iopub.status.busy": "2024-06-11T19:47:11.8979Z",
          "iopub.execute_input": "2024-06-11T19:47:11.89819Z",
          "iopub.status.idle": "2024-06-11T19:47:19.199587Z",
          "shell.execute_reply.started": "2024-06-11T19:47:11.898157Z",
          "shell.execute_reply": "2024-06-11T19:47:19.198772Z"
        },
        "trusted": true,
        "colab": {
          "base_uri": "https://localhost:8080/"
        },
        "id": "R_irUHzgBhNu",
        "outputId": "a08948fc-9abf-446c-ce48-00e780b2135f"
      },
      "execution_count": 3,
      "outputs": [
        {
          "output_type": "stream",
          "name": "stdout",
          "text": [
            "Downloading data from https://www.cs.toronto.edu/~kriz/cifar-10-python.tar.gz\n",
            "170498071/170498071 [==============================] - 13s 0us/step\n"
          ]
        }
      ]
    },
    {
      "cell_type": "code",
      "source": [
        "x_train.shape"
      ],
      "metadata": {
        "execution": {
          "iopub.status.busy": "2024-06-11T19:47:19.200658Z",
          "iopub.execute_input": "2024-06-11T19:47:19.200909Z",
          "iopub.status.idle": "2024-06-11T19:47:19.207464Z",
          "shell.execute_reply.started": "2024-06-11T19:47:19.200888Z",
          "shell.execute_reply": "2024-06-11T19:47:19.206725Z"
        },
        "trusted": true,
        "colab": {
          "base_uri": "https://localhost:8080/"
        },
        "id": "KZwcwZcGBhNu",
        "outputId": "60505721-2f2f-4d47-fe0c-af592c2baf31"
      },
      "execution_count": 4,
      "outputs": [
        {
          "output_type": "execute_result",
          "data": {
            "text/plain": [
              "(50000, 32, 32, 3)"
            ]
          },
          "metadata": {},
          "execution_count": 4
        }
      ]
    },
    {
      "cell_type": "code",
      "source": [
        "plt.imshow(x_train[0])"
      ],
      "metadata": {
        "execution": {
          "iopub.status.busy": "2024-06-11T19:47:19.208777Z",
          "iopub.execute_input": "2024-06-11T19:47:19.209507Z",
          "iopub.status.idle": "2024-06-11T19:47:19.499223Z",
          "shell.execute_reply.started": "2024-06-11T19:47:19.209449Z",
          "shell.execute_reply": "2024-06-11T19:47:19.4983Z"
        },
        "trusted": true,
        "colab": {
          "base_uri": "https://localhost:8080/",
          "height": 447
        },
        "id": "dNfwpZr_BhNv",
        "outputId": "8e8045f5-e71c-4c83-9cad-7c16dd8a998a"
      },
      "execution_count": 5,
      "outputs": [
        {
          "output_type": "execute_result",
          "data": {
            "text/plain": [
              "<matplotlib.image.AxesImage at 0x7f9c929b4550>"
            ]
          },
          "metadata": {},
          "execution_count": 5
        },
        {
          "output_type": "display_data",
          "data": {
            "text/plain": [
              "<Figure size 640x480 with 1 Axes>"
            ],
            "image/png": "[encoded data removed]"
          },
          "metadata": {}
        }
      ]
    },
    {
      "cell_type": "markdown",
      "source": [
        "## Cleaning data"
      ],
      "metadata": {
        "id": "usjFDeLVBhNv"
      }
    },
    {
      "cell_type": "code",
      "source": [
        "x_train = x_train.astype('float32')/255\n",
        "x_test = x_test.astype('float32')/255"
      ],
      "metadata": {
        "execution": {
          "iopub.status.busy": "2024-06-11T19:47:19.500466Z",
          "iopub.execute_input": "2024-06-11T19:47:19.500809Z",
          "iopub.status.idle": "2024-06-11T19:47:19.753129Z",
          "shell.execute_reply.started": "2024-06-11T19:47:19.500777Z",
          "shell.execute_reply": "2024-06-11T19:47:19.752262Z"
        },
        "trusted": true,
        "id": "p3Ck3K0gBhNw"
      },
      "execution_count": 6,
      "outputs": []
    },
    {
      "cell_type": "code",
      "source": [
        "num_classes = len(np.unique(y_train))\n",
        "y_train = to_categorical(y_train, num_classes)\n",
        "y_test = to_categorical(y_test, num_classes)"
      ],
      "metadata": {
        "execution": {
          "iopub.status.busy": "2024-06-11T19:47:19.754265Z",
          "iopub.execute_input": "2024-06-11T19:47:19.754628Z",
          "iopub.status.idle": "2024-06-11T19:47:19.764088Z",
          "shell.execute_reply.started": "2024-06-11T19:47:19.754597Z",
          "shell.execute_reply": "2024-06-11T19:47:19.763211Z"
        },
        "trusted": true,
        "id": "oLNt11O2BhNw"
      },
      "execution_count": 7,
      "outputs": []
    },
    {
      "cell_type": "code",
      "source": [
        "y_train[0]"
      ],
      "metadata": {
        "execution": {
          "iopub.status.busy": "2024-06-11T19:47:19.765406Z",
          "iopub.execute_input": "2024-06-11T19:47:19.765749Z",
          "iopub.status.idle": "2024-06-11T19:47:19.7724Z",
          "shell.execute_reply.started": "2024-06-11T19:47:19.765718Z",
          "shell.execute_reply": "2024-06-11T19:47:19.771566Z"
        },
        "trusted": true,
        "colab": {
          "base_uri": "https://localhost:8080/"
        },
        "id": "7OkRlSsdBhNw",
        "outputId": "55ddf5b6-c388-4163-ee65-fcadaf6dd2c2"
      },
      "execution_count": 8,
      "outputs": [
        {
          "output_type": "execute_result",
          "data": {
            "text/plain": [
              "array([0., 0., 0., 0., 0., 0., 1., 0., 0., 0.], dtype=float32)"
            ]
          },
          "metadata": {},
          "execution_count": 8
        }
      ]
    },
    {
      "cell_type": "code",
      "source": [
        "(x_train, x_valid) = x_train[5000:], x_train[:5000]\n",
        "(y_train, y_valid) = y_train[5000:], y_train[:5000]"
      ],
      "metadata": {
        "execution": {
          "iopub.status.busy": "2024-06-11T19:47:19.775288Z",
          "iopub.execute_input": "2024-06-11T19:47:19.775565Z",
          "iopub.status.idle": "2024-06-11T19:47:19.781013Z",
          "shell.execute_reply.started": "2024-06-11T19:47:19.775542Z",
          "shell.execute_reply": "2024-06-11T19:47:19.780196Z"
        },
        "trusted": true,
        "id": "2gN3QbuRBhNw"
      },
      "execution_count": 9,
      "outputs": []
    },
    {
      "cell_type": "code",
      "source": [
        "print('x_train shape:', x_train.shape)\n",
        "print('train', x_train.shape[0])\n",
        "print('val', x_valid.shape[0])\n",
        "print('test', x_test.shape[0])"
      ],
      "metadata": {
        "execution": {
          "iopub.status.busy": "2024-06-11T19:47:19.781982Z",
          "iopub.execute_input": "2024-06-11T19:47:19.782255Z",
          "iopub.status.idle": "2024-06-11T19:47:19.7916Z",
          "shell.execute_reply.started": "2024-06-11T19:47:19.782233Z",
          "shell.execute_reply": "2024-06-11T19:47:19.790708Z"
        },
        "trusted": true,
        "colab": {
          "base_uri": "https://localhost:8080/"
        },
        "id": "WifFtC9eBhNx",
        "outputId": "fe536871-7ba9-4b9e-bf56-1b6c9b6f33b4"
      },
      "execution_count": 10,
      "outputs": [
        {
          "output_type": "stream",
          "name": "stdout",
          "text": [
            "x_train shape: (45000, 32, 32, 3)\n",
            "train 45000\n",
            "val 5000\n",
            "test 10000\n"
          ]
        }
      ]
    },
    {
      "cell_type": "markdown",
      "source": [
        "## Creating model"
      ],
      "metadata": {
        "id": "4tjO1f_uBhNx"
      }
    },
    {
      "cell_type": "code",
      "source": [
        "base_filters = 32\n",
        "w_regularizer = 8e-5"
      ],
      "metadata": {
        "execution": {
          "iopub.status.busy": "2024-06-11T19:47:19.792576Z",
          "iopub.execute_input": "2024-06-11T19:47:19.792822Z",
          "iopub.status.idle": "2024-06-11T19:47:19.800092Z",
          "shell.execute_reply.started": "2024-06-11T19:47:19.7928Z",
          "shell.execute_reply": "2024-06-11T19:47:19.799202Z"
        },
        "trusted": true,
        "id": "DeFvIqPcBhNx"
      },
      "execution_count": 11,
      "outputs": []
    },
    {
      "cell_type": "code",
      "source": [
        "model = Sequential()\n",
        "#conv1\n",
        "model.add(Conv2D(base_filters, (3,3), padding='same',kernel_regularizer=regularizers.l2(w_regularizer), input_shape= x_train.shape[1:]))\n",
        "model.add(Activation('relu'))\n",
        "\n",
        "#conv2\n",
        "model.add(Conv2D(base_filters, (3,3), padding='same',kernel_regularizer=regularizers.l2(w_regularizer)))\n",
        "model.add(Activation('relu'))\n",
        "model.add(MaxPooling2D(pool_size=(2,2)))\n",
        "model.add(Dropout(0.2))\n",
        "\n",
        "#conv3\n",
        "model.add(Conv2D(2*base_filters, (3,3), padding='same', kernel_regularizer=regularizers.l2(w_regularizer)))\n",
        "model.add(Activation('relu'))\n",
        "model.add(Dropout(0.2))\n",
        "\n",
        "## conv 4\n",
        "model.add(Conv2D(2*base_filters, (3,3), padding='same', kernel_regularizer=regularizers.l2(w_regularizer)))\n",
        "model.add(Activation('relu'))\n",
        "model.add(MaxPooling2D(pool_size=(2,2)))\n",
        "model.add(Dropout(0.3))\n",
        "\n",
        "## conv 5\n",
        "model.add(Conv2D(4*base_filters,(3,3), padding='same', kernel_regularizer=regularizers.l2(w_regularizer)))\n",
        "model.add(Activation('relu'))\n",
        "\n",
        "## conv 6\n",
        "model.add(Conv2D(4*base_filters, (3,3), padding='same', kernel_regularizer=regularizers.l2(w_regularizer)))\n",
        "model.add(Activation('relu'))\n",
        "model.add(MaxPooling2D(pool_size=(2,2)))\n",
        "model.add(Dropout(0.4))\n",
        "\n",
        "\n",
        "\n",
        "## Clasificacion - Flatten\n",
        "model.add(Flatten())\n",
        "#usamos finalmente softmax, porque problema de clasificacion multiple\n",
        "\n",
        "model.add(Dense(num_classes,activation='softmax'))\n",
        "model.summary()"
      ],
      "metadata": {
        "execution": {
          "iopub.status.busy": "2024-06-11T19:47:43.201782Z",
          "iopub.execute_input": "2024-06-11T19:47:43.202636Z",
          "iopub.status.idle": "2024-06-11T19:47:43.46856Z",
          "shell.execute_reply.started": "2024-06-11T19:47:43.2026Z",
          "shell.execute_reply": "2024-06-11T19:47:43.467684Z"
        },
        "trusted": true,
        "colab": {
          "base_uri": "https://localhost:8080/"
        },
        "id": "R7vHb26NBhNx",
        "outputId": "e4ede14d-3a85-4a6d-ca39-0f71ac3eec3e"
      },
      "execution_count": 12,
      "outputs": [
        {
          "output_type": "stream",
          "name": "stdout",
          "text": [
            "Model: \"sequential\"\n",
            "_________________________________________________________________\n",
            " Layer (type)                Output Shape              Param #   \n",
            "=================================================================\n",
            " conv2d (Conv2D)             (None, 32, 32, 32)        896       \n",
            "                                                                 \n",
            " activation (Activation)     (None, 32, 32, 32)        0         \n",
            "                                                                 \n",
            " conv2d_1 (Conv2D)           (None, 32, 32, 32)        9248      \n",
            "                                                                 \n",
            " activation_1 (Activation)   (None, 32, 32, 32)        0         \n",
            "                                                                 \n",
            " max_pooling2d (MaxPooling2  (None, 16, 16, 32)        0         \n",
            " D)                                                              \n",
            "                                                                 \n",
            " dropout (Dropout)           (None, 16, 16, 32)        0         \n",
            "                                                                 \n",
            " conv2d_2 (Conv2D)           (None, 16, 16, 64)        18496     \n",
            "                                                                 \n",
            " activation_2 (Activation)   (None, 16, 16, 64)        0         \n",
            "                                                                 \n",
            " dropout_1 (Dropout)         (None, 16, 16, 64)        0         \n",
            "                                                                 \n",
            " conv2d_3 (Conv2D)           (None, 16, 16, 64)        36928     \n",
            "                                                                 \n",
            " activation_3 (Activation)   (None, 16, 16, 64)        0         \n",
            "                                                                 \n",
            " max_pooling2d_1 (MaxPoolin  (None, 8, 8, 64)          0         \n",
            " g2D)                                                            \n",
            "                                                                 \n",
            " dropout_2 (Dropout)         (None, 8, 8, 64)          0         \n",
            "                                                                 \n",
            " conv2d_4 (Conv2D)           (None, 8, 8, 128)         73856     \n",
            "                                                                 \n",
            " activation_4 (Activation)   (None, 8, 8, 128)         0         \n",
            "                                                                 \n",
            " conv2d_5 (Conv2D)           (None, 8, 8, 128)         147584    \n",
            "                                                                 \n",
            " activation_5 (Activation)   (None, 8, 8, 128)         0         \n",
            "                                                                 \n",
            " max_pooling2d_2 (MaxPoolin  (None, 4, 4, 128)         0         \n",
            " g2D)                                                            \n",
            "                                                                 \n",
            " dropout_3 (Dropout)         (None, 4, 4, 128)         0         \n",
            "                                                                 \n",
            " flatten (Flatten)           (None, 2048)              0         \n",
            "                                                                 \n",
            " dense (Dense)               (None, 10)                20490     \n",
            "                                                                 \n",
            "=================================================================\n",
            "Total params: 307498 (1.17 MB)\n",
            "Trainable params: 307498 (1.17 MB)\n",
            "Non-trainable params: 0 (0.00 Byte)\n",
            "_________________________________________________________________\n"
          ]
        }
      ]
    },
    {
      "cell_type": "code",
      "source": [
        "model.compile(loss='categorical_crossentropy', optimizer='Adam', metrics=['accuracy'])"
      ],
      "metadata": {
        "execution": {
          "iopub.status.busy": "2024-06-11T19:47:46.504667Z",
          "iopub.execute_input": "2024-06-11T19:47:46.505676Z",
          "iopub.status.idle": "2024-06-11T19:47:46.521182Z",
          "shell.execute_reply.started": "2024-06-11T19:47:46.505639Z",
          "shell.execute_reply": "2024-06-11T19:47:46.520261Z"
        },
        "trusted": true,
        "id": "JV-SOdMRBhNx"
      },
      "execution_count": 13,
      "outputs": []
    },
    {
      "cell_type": "code",
      "source": [
        "hist = model.fit(x_train, y_train, batch_size=32, epochs=100,\n",
        "                validation_data=(x_valid,y_valid),\n",
        "                verbose=2, shuffle=True)"
      ],
      "metadata": {
        "execution": {
          "iopub.status.busy": "2024-06-11T19:47:48.661425Z",
          "iopub.execute_input": "2024-06-11T19:47:48.662191Z",
          "iopub.status.idle": "2024-06-11T19:57:15.094425Z",
          "shell.execute_reply.started": "2024-06-11T19:47:48.662134Z",
          "shell.execute_reply": "2024-06-11T19:57:15.093444Z"
        },
        "trusted": true,
        "colab": {
          "base_uri": "https://localhost:8080/"
        },
        "id": "arVjUdl5BhNx",
        "outputId": "7c181797-99cb-4fe0-aa10-92b535d0253c"
      },
      "execution_count": 14,
      "outputs": [
        {
          "output_type": "stream",
          "name": "stdout",
          "text": [
            "Epoch 1/100\n",
            "1407/1407 - 17s - loss: 1.6690 - accuracy: 0.3910 - val_loss: 1.3016 - val_accuracy: 0.5348 - 17s/epoch - 12ms/step\n",
            "Epoch 2/100\n",
            "1407/1407 - 8s - loss: 1.2488 - accuracy: 0.5630 - val_loss: 1.0494 - val_accuracy: 0.6458 - 8s/epoch - 6ms/step\n",
            "Epoch 3/100\n",
            "1407/1407 - 9s - loss: 1.0985 - accuracy: 0.6263 - val_loss: 0.9652 - val_accuracy: 0.6810 - 9s/epoch - 6ms/step\n",
            "Epoch 4/100\n",
            "1407/1407 - 8s - loss: 1.0110 - accuracy: 0.6622 - val_loss: 0.9317 - val_accuracy: 0.6948 - 8s/epoch - 6ms/step\n",
            "Epoch 5/100\n",
            "1407/1407 - 8s - loss: 0.9554 - accuracy: 0.6840 - val_loss: 0.8931 - val_accuracy: 0.7078 - 8s/epoch - 5ms/step\n",
            "Epoch 6/100\n",
            "1407/1407 - 8s - loss: 0.9048 - accuracy: 0.7050 - val_loss: 0.8479 - val_accuracy: 0.7372 - 8s/epoch - 6ms/step\n",
            "Epoch 7/100\n",
            "1407/1407 - 9s - loss: 0.8679 - accuracy: 0.7239 - val_loss: 0.8135 - val_accuracy: 0.7460 - 9s/epoch - 6ms/step\n",
            "Epoch 8/100\n",
            "1407/1407 - 8s - loss: 0.8422 - accuracy: 0.7329 - val_loss: 0.7370 - val_accuracy: 0.7724 - 8s/epoch - 6ms/step\n",
            "Epoch 9/100\n",
            "1407/1407 - 8s - loss: 0.8211 - accuracy: 0.7421 - val_loss: 0.7539 - val_accuracy: 0.7720 - 8s/epoch - 6ms/step\n",
            "Epoch 10/100\n",
            "1407/1407 - 9s - loss: 0.8044 - accuracy: 0.7498 - val_loss: 0.7593 - val_accuracy: 0.7652 - 9s/epoch - 6ms/step\n",
            "Epoch 11/100\n",
            "1407/1407 - 8s - loss: 0.7934 - accuracy: 0.7557 - val_loss: 0.7455 - val_accuracy: 0.7714 - 8s/epoch - 5ms/step\n",
            "Epoch 12/100\n",
            "1407/1407 - 9s - loss: 0.7819 - accuracy: 0.7604 - val_loss: 0.7125 - val_accuracy: 0.7928 - 9s/epoch - 6ms/step\n",
            "Epoch 13/100\n",
            "1407/1407 - 8s - loss: 0.7680 - accuracy: 0.7662 - val_loss: 0.7179 - val_accuracy: 0.7844 - 8s/epoch - 6ms/step\n",
            "Epoch 14/100\n",
            "1407/1407 - 8s - loss: 0.7605 - accuracy: 0.7679 - val_loss: 0.6991 - val_accuracy: 0.8040 - 8s/epoch - 6ms/step\n",
            "Epoch 15/100\n",
            "1407/1407 - 8s - loss: 0.7541 - accuracy: 0.7727 - val_loss: 0.7069 - val_accuracy: 0.7958 - 8s/epoch - 6ms/step\n",
            "Epoch 16/100\n",
            "1407/1407 - 8s - loss: 0.7459 - accuracy: 0.7763 - val_loss: 0.6915 - val_accuracy: 0.8012 - 8s/epoch - 6ms/step\n",
            "Epoch 17/100\n",
            "1407/1407 - 8s - loss: 0.7419 - accuracy: 0.7786 - val_loss: 0.6945 - val_accuracy: 0.7968 - 8s/epoch - 6ms/step\n",
            "Epoch 18/100\n",
            "1407/1407 - 9s - loss: 0.7339 - accuracy: 0.7802 - val_loss: 0.6808 - val_accuracy: 0.8030 - 9s/epoch - 6ms/step\n",
            "Epoch 19/100\n",
            "1407/1407 - 8s - loss: 0.7348 - accuracy: 0.7821 - val_loss: 0.6723 - val_accuracy: 0.8060 - 8s/epoch - 6ms/step\n",
            "Epoch 20/100\n",
            "1407/1407 - 8s - loss: 0.7242 - accuracy: 0.7855 - val_loss: 0.6861 - val_accuracy: 0.8014 - 8s/epoch - 6ms/step\n",
            "Epoch 21/100\n",
            "1407/1407 - 9s - loss: 0.7215 - accuracy: 0.7891 - val_loss: 0.7036 - val_accuracy: 0.7998 - 9s/epoch - 6ms/step\n",
            "Epoch 22/100\n",
            "1407/1407 - 8s - loss: 0.7232 - accuracy: 0.7899 - val_loss: 0.7168 - val_accuracy: 0.7954 - 8s/epoch - 6ms/step\n",
            "Epoch 23/100\n",
            "1407/1407 - 8s - loss: 0.7217 - accuracy: 0.7892 - val_loss: 0.6900 - val_accuracy: 0.8038 - 8s/epoch - 6ms/step\n",
            "Epoch 24/100\n",
            "1407/1407 - 9s - loss: 0.7133 - accuracy: 0.7939 - val_loss: 0.7048 - val_accuracy: 0.8046 - 9s/epoch - 6ms/step\n",
            "Epoch 25/100\n",
            "1407/1407 - 8s - loss: 0.7153 - accuracy: 0.7927 - val_loss: 0.7032 - val_accuracy: 0.7982 - 8s/epoch - 6ms/step\n",
            "Epoch 26/100\n",
            "1407/1407 - 8s - loss: 0.7086 - accuracy: 0.7960 - val_loss: 0.6999 - val_accuracy: 0.8024 - 8s/epoch - 6ms/step\n",
            "Epoch 27/100\n",
            "1407/1407 - 8s - loss: 0.7124 - accuracy: 0.7955 - val_loss: 0.7300 - val_accuracy: 0.7972 - 8s/epoch - 6ms/step\n",
            "Epoch 28/100\n",
            "1407/1407 - 8s - loss: 0.7091 - accuracy: 0.7961 - val_loss: 0.6745 - val_accuracy: 0.8124 - 8s/epoch - 6ms/step\n",
            "Epoch 29/100\n",
            "1407/1407 - 8s - loss: 0.7110 - accuracy: 0.7954 - val_loss: 0.6704 - val_accuracy: 0.8140 - 8s/epoch - 6ms/step\n",
            "Epoch 30/100\n",
            "1407/1407 - 8s - loss: 0.7111 - accuracy: 0.7941 - val_loss: 0.7052 - val_accuracy: 0.8064 - 8s/epoch - 6ms/step\n",
            "Epoch 31/100\n",
            "1407/1407 - 8s - loss: 0.7065 - accuracy: 0.7963 - val_loss: 0.6732 - val_accuracy: 0.8150 - 8s/epoch - 5ms/step\n",
            "Epoch 32/100\n",
            "1407/1407 - 8s - loss: 0.7010 - accuracy: 0.7998 - val_loss: 0.6799 - val_accuracy: 0.8140 - 8s/epoch - 6ms/step\n",
            "Epoch 33/100\n",
            "1407/1407 - 8s - loss: 0.6942 - accuracy: 0.8045 - val_loss: 0.6915 - val_accuracy: 0.8142 - 8s/epoch - 6ms/step\n",
            "Epoch 34/100\n",
            "1407/1407 - 8s - loss: 0.6930 - accuracy: 0.8041 - val_loss: 0.6936 - val_accuracy: 0.8112 - 8s/epoch - 5ms/step\n",
            "Epoch 35/100\n",
            "1407/1407 - 8s - loss: 0.6985 - accuracy: 0.8008 - val_loss: 0.6694 - val_accuracy: 0.8188 - 8s/epoch - 6ms/step\n",
            "Epoch 36/100\n",
            "1407/1407 - 9s - loss: 0.6911 - accuracy: 0.8053 - val_loss: 0.6587 - val_accuracy: 0.8266 - 9s/epoch - 7ms/step\n",
            "Epoch 37/100\n",
            "1407/1407 - 8s - loss: 0.6920 - accuracy: 0.8047 - val_loss: 0.6859 - val_accuracy: 0.8100 - 8s/epoch - 6ms/step\n",
            "Epoch 38/100\n",
            "1407/1407 - 8s - loss: 0.6901 - accuracy: 0.8066 - val_loss: 0.6887 - val_accuracy: 0.8088 - 8s/epoch - 6ms/step\n",
            "Epoch 39/100\n",
            "1407/1407 - 8s - loss: 0.6883 - accuracy: 0.8057 - val_loss: 0.6671 - val_accuracy: 0.8190 - 8s/epoch - 6ms/step\n",
            "Epoch 40/100\n",
            "1407/1407 - 8s - loss: 0.6909 - accuracy: 0.8057 - val_loss: 0.6691 - val_accuracy: 0.8188 - 8s/epoch - 6ms/step\n",
            "Epoch 41/100\n",
            "1407/1407 - 8s - loss: 0.6877 - accuracy: 0.8062 - val_loss: 0.6631 - val_accuracy: 0.8200 - 8s/epoch - 6ms/step\n",
            "Epoch 42/100\n",
            "1407/1407 - 8s - loss: 0.6856 - accuracy: 0.8062 - val_loss: 0.7263 - val_accuracy: 0.8016 - 8s/epoch - 6ms/step\n",
            "Epoch 43/100\n",
            "1407/1407 - 8s - loss: 0.6832 - accuracy: 0.8099 - val_loss: 0.6517 - val_accuracy: 0.8238 - 8s/epoch - 6ms/step\n",
            "Epoch 44/100\n",
            "1407/1407 - 8s - loss: 0.6833 - accuracy: 0.8082 - val_loss: 0.6708 - val_accuracy: 0.8102 - 8s/epoch - 6ms/step\n",
            "Epoch 45/100\n",
            "1407/1407 - 8s - loss: 0.6841 - accuracy: 0.8063 - val_loss: 0.7143 - val_accuracy: 0.8086 - 8s/epoch - 6ms/step\n",
            "Epoch 46/100\n",
            "1407/1407 - 8s - loss: 0.6773 - accuracy: 0.8105 - val_loss: 0.6602 - val_accuracy: 0.8248 - 8s/epoch - 6ms/step\n",
            "Epoch 47/100\n",
            "1407/1407 - 8s - loss: 0.6809 - accuracy: 0.8094 - val_loss: 0.7073 - val_accuracy: 0.8072 - 8s/epoch - 6ms/step\n",
            "Epoch 48/100\n",
            "1407/1407 - 8s - loss: 0.6757 - accuracy: 0.8113 - val_loss: 0.6913 - val_accuracy: 0.8086 - 8s/epoch - 5ms/step\n",
            "Epoch 49/100\n",
            "1407/1407 - 8s - loss: 0.6761 - accuracy: 0.8120 - val_loss: 0.7160 - val_accuracy: 0.8086 - 8s/epoch - 6ms/step\n",
            "Epoch 50/100\n",
            "1407/1407 - 8s - loss: 0.6809 - accuracy: 0.8099 - val_loss: 0.6686 - val_accuracy: 0.8222 - 8s/epoch - 6ms/step\n",
            "Epoch 51/100\n",
            "1407/1407 - 8s - loss: 0.6798 - accuracy: 0.8106 - val_loss: 0.7049 - val_accuracy: 0.8048 - 8s/epoch - 5ms/step\n",
            "Epoch 52/100\n",
            "1407/1407 - 8s - loss: 0.6723 - accuracy: 0.8125 - val_loss: 0.6615 - val_accuracy: 0.8226 - 8s/epoch - 6ms/step\n",
            "Epoch 53/100\n",
            "1407/1407 - 8s - loss: 0.6750 - accuracy: 0.8130 - val_loss: 0.6721 - val_accuracy: 0.8222 - 8s/epoch - 6ms/step\n",
            "Epoch 54/100\n",
            "1407/1407 - 8s - loss: 0.6731 - accuracy: 0.8121 - val_loss: 0.6503 - val_accuracy: 0.8288 - 8s/epoch - 6ms/step\n",
            "Epoch 55/100\n",
            "1407/1407 - 9s - loss: 0.6677 - accuracy: 0.8145 - val_loss: 0.6440 - val_accuracy: 0.8298 - 9s/epoch - 6ms/step\n",
            "Epoch 56/100\n",
            "1407/1407 - 9s - loss: 0.6689 - accuracy: 0.8152 - val_loss: 0.6915 - val_accuracy: 0.8114 - 9s/epoch - 6ms/step\n",
            "Epoch 57/100\n",
            "1407/1407 - 8s - loss: 0.6741 - accuracy: 0.8122 - val_loss: 0.6610 - val_accuracy: 0.8244 - 8s/epoch - 6ms/step\n",
            "Epoch 58/100\n",
            "1407/1407 - 9s - loss: 0.6646 - accuracy: 0.8173 - val_loss: 0.6514 - val_accuracy: 0.8248 - 9s/epoch - 6ms/step\n",
            "Epoch 59/100\n",
            "1407/1407 - 9s - loss: 0.6697 - accuracy: 0.8146 - val_loss: 0.6601 - val_accuracy: 0.8256 - 9s/epoch - 6ms/step\n",
            "Epoch 60/100\n",
            "1407/1407 - 8s - loss: 0.6673 - accuracy: 0.8153 - val_loss: 0.6749 - val_accuracy: 0.8216 - 8s/epoch - 6ms/step\n",
            "Epoch 61/100\n",
            "1407/1407 - 9s - loss: 0.6665 - accuracy: 0.8165 - val_loss: 0.6473 - val_accuracy: 0.8280 - 9s/epoch - 6ms/step\n",
            "Epoch 62/100\n",
            "1407/1407 - 8s - loss: 0.6641 - accuracy: 0.8177 - val_loss: 0.6729 - val_accuracy: 0.8202 - 8s/epoch - 6ms/step\n",
            "Epoch 63/100\n",
            "1407/1407 - 8s - loss: 0.6672 - accuracy: 0.8151 - val_loss: 0.6366 - val_accuracy: 0.8318 - 8s/epoch - 5ms/step\n",
            "Epoch 64/100\n",
            "1407/1407 - 8s - loss: 0.6631 - accuracy: 0.8200 - val_loss: 0.6556 - val_accuracy: 0.8236 - 8s/epoch - 6ms/step\n",
            "Epoch 65/100\n",
            "1407/1407 - 8s - loss: 0.6644 - accuracy: 0.8170 - val_loss: 0.6653 - val_accuracy: 0.8282 - 8s/epoch - 6ms/step\n",
            "Epoch 66/100\n",
            "1407/1407 - 8s - loss: 0.6633 - accuracy: 0.8192 - val_loss: 0.6860 - val_accuracy: 0.8160 - 8s/epoch - 6ms/step\n",
            "Epoch 67/100\n",
            "1407/1407 - 8s - loss: 0.6619 - accuracy: 0.8184 - val_loss: 0.6356 - val_accuracy: 0.8324 - 8s/epoch - 6ms/step\n",
            "Epoch 68/100\n",
            "1407/1407 - 8s - loss: 0.6648 - accuracy: 0.8178 - val_loss: 0.6830 - val_accuracy: 0.8228 - 8s/epoch - 6ms/step\n",
            "Epoch 69/100\n",
            "1407/1407 - 8s - loss: 0.6663 - accuracy: 0.8185 - val_loss: 0.6415 - val_accuracy: 0.8330 - 8s/epoch - 6ms/step\n",
            "Epoch 70/100\n",
            "1407/1407 - 8s - loss: 0.6594 - accuracy: 0.8193 - val_loss: 0.6658 - val_accuracy: 0.8174 - 8s/epoch - 6ms/step\n",
            "Epoch 71/100\n",
            "1407/1407 - 8s - loss: 0.6584 - accuracy: 0.8198 - val_loss: 0.7173 - val_accuracy: 0.8140 - 8s/epoch - 6ms/step\n",
            "Epoch 72/100\n",
            "1407/1407 - 8s - loss: 0.6565 - accuracy: 0.8191 - val_loss: 0.6464 - val_accuracy: 0.8296 - 8s/epoch - 6ms/step\n",
            "Epoch 73/100\n",
            "1407/1407 - 8s - loss: 0.6553 - accuracy: 0.8217 - val_loss: 0.6915 - val_accuracy: 0.8174 - 8s/epoch - 6ms/step\n",
            "Epoch 74/100\n",
            "1407/1407 - 8s - loss: 0.6572 - accuracy: 0.8221 - val_loss: 0.6448 - val_accuracy: 0.8366 - 8s/epoch - 6ms/step\n",
            "Epoch 75/100\n",
            "1407/1407 - 8s - loss: 0.6633 - accuracy: 0.8182 - val_loss: 0.6487 - val_accuracy: 0.8288 - 8s/epoch - 6ms/step\n",
            "Epoch 76/100\n",
            "1407/1407 - 9s - loss: 0.6603 - accuracy: 0.8187 - val_loss: 0.6502 - val_accuracy: 0.8274 - 9s/epoch - 6ms/step\n",
            "Epoch 77/100\n",
            "1407/1407 - 8s - loss: 0.6541 - accuracy: 0.8242 - val_loss: 0.7013 - val_accuracy: 0.8150 - 8s/epoch - 6ms/step\n",
            "Epoch 78/100\n",
            "1407/1407 - 9s - loss: 0.6512 - accuracy: 0.8220 - val_loss: 0.6711 - val_accuracy: 0.8182 - 9s/epoch - 6ms/step\n",
            "Epoch 79/100\n",
            "1407/1407 - 8s - loss: 0.6504 - accuracy: 0.8232 - val_loss: 0.6384 - val_accuracy: 0.8330 - 8s/epoch - 6ms/step\n",
            "Epoch 80/100\n",
            "1407/1407 - 8s - loss: 0.6548 - accuracy: 0.8207 - val_loss: 0.6212 - val_accuracy: 0.8366 - 8s/epoch - 6ms/step\n",
            "Epoch 81/100\n",
            "1407/1407 - 8s - loss: 0.6549 - accuracy: 0.8221 - val_loss: 0.6385 - val_accuracy: 0.8332 - 8s/epoch - 6ms/step\n",
            "Epoch 82/100\n",
            "1407/1407 - 8s - loss: 0.6533 - accuracy: 0.8208 - val_loss: 0.6665 - val_accuracy: 0.8254 - 8s/epoch - 6ms/step\n",
            "Epoch 83/100\n",
            "1407/1407 - 8s - loss: 0.6560 - accuracy: 0.8210 - val_loss: 0.6572 - val_accuracy: 0.8280 - 8s/epoch - 5ms/step\n",
            "Epoch 84/100\n",
            "1407/1407 - 8s - loss: 0.6477 - accuracy: 0.8232 - val_loss: 0.6651 - val_accuracy: 0.8240 - 8s/epoch - 6ms/step\n",
            "Epoch 85/100\n",
            "1407/1407 - 9s - loss: 0.6575 - accuracy: 0.8211 - val_loss: 0.6830 - val_accuracy: 0.8212 - 9s/epoch - 6ms/step\n",
            "Epoch 86/100\n",
            "1407/1407 - 8s - loss: 0.6582 - accuracy: 0.8203 - val_loss: 0.6229 - val_accuracy: 0.8376 - 8s/epoch - 6ms/step\n",
            "Epoch 87/100\n",
            "1407/1407 - 8s - loss: 0.6494 - accuracy: 0.8233 - val_loss: 0.6419 - val_accuracy: 0.8330 - 8s/epoch - 6ms/step\n",
            "Epoch 88/100\n",
            "1407/1407 - 8s - loss: 0.6467 - accuracy: 0.8259 - val_loss: 0.6732 - val_accuracy: 0.8202 - 8s/epoch - 6ms/step\n",
            "Epoch 89/100\n",
            "1407/1407 - 8s - loss: 0.6460 - accuracy: 0.8250 - val_loss: 0.6411 - val_accuracy: 0.8328 - 8s/epoch - 5ms/step\n",
            "Epoch 90/100\n",
            "1407/1407 - 8s - loss: 0.6477 - accuracy: 0.8242 - val_loss: 0.6305 - val_accuracy: 0.8362 - 8s/epoch - 6ms/step\n",
            "Epoch 91/100\n",
            "1407/1407 - 8s - loss: 0.6481 - accuracy: 0.8222 - val_loss: 0.6414 - val_accuracy: 0.8304 - 8s/epoch - 6ms/step\n",
            "Epoch 92/100\n",
            "1407/1407 - 8s - loss: 0.6408 - accuracy: 0.8270 - val_loss: 0.6485 - val_accuracy: 0.8350 - 8s/epoch - 6ms/step\n",
            "Epoch 93/100\n",
            "1407/1407 - 8s - loss: 0.6474 - accuracy: 0.8238 - val_loss: 0.6100 - val_accuracy: 0.8414 - 8s/epoch - 6ms/step\n",
            "Epoch 94/100\n",
            "1407/1407 - 8s - loss: 0.6491 - accuracy: 0.8231 - val_loss: 0.6281 - val_accuracy: 0.8376 - 8s/epoch - 6ms/step\n",
            "Epoch 95/100\n",
            "1407/1407 - 8s - loss: 0.6380 - accuracy: 0.8271 - val_loss: 0.6350 - val_accuracy: 0.8316 - 8s/epoch - 6ms/step\n",
            "Epoch 96/100\n",
            "1407/1407 - 8s - loss: 0.6491 - accuracy: 0.8248 - val_loss: 0.6555 - val_accuracy: 0.8290 - 8s/epoch - 6ms/step\n",
            "Epoch 97/100\n",
            "1407/1407 - 8s - loss: 0.6375 - accuracy: 0.8271 - val_loss: 0.6706 - val_accuracy: 0.8276 - 8s/epoch - 6ms/step\n",
            "Epoch 98/100\n",
            "1407/1407 - 8s - loss: 0.6423 - accuracy: 0.8287 - val_loss: 0.6138 - val_accuracy: 0.8424 - 8s/epoch - 6ms/step\n",
            "Epoch 99/100\n",
            "1407/1407 - 8s - loss: 0.6444 - accuracy: 0.8264 - val_loss: 0.6522 - val_accuracy: 0.8288 - 8s/epoch - 6ms/step\n",
            "Epoch 100/100\n",
            "1407/1407 - 8s - loss: 0.6473 - accuracy: 0.8242 - val_loss: 0.6520 - val_accuracy: 0.8236 - 8s/epoch - 5ms/step\n"
          ]
        }
      ]
    },
    {
      "cell_type": "code",
      "source": [
        "plt.plot(hist.history['accuracy'], label='Train')\n",
        "plt.plot(hist.history['val_accuracy'], label='Val')\n",
        "plt.legend()\n",
        "plt.show()"
      ],
      "metadata": {
        "execution": {
          "iopub.status.busy": "2024-06-11T19:47:21.648193Z",
          "iopub.status.idle": "2024-06-11T19:47:21.64853Z",
          "shell.execute_reply.started": "2024-06-11T19:47:21.648368Z",
          "shell.execute_reply": "2024-06-11T19:47:21.648382Z"
        },
        "trusted": true,
        "colab": {
          "base_uri": "https://localhost:8080/",
          "height": 430
        },
        "id": "8x8Iliq9BhNx",
        "outputId": "0b88da59-a3ac-4fab-a3e8-9fd2e0d191e5"
      },
      "execution_count": 15,
      "outputs": [
        {
          "output_type": "display_data",
          "data": {
            "text/plain": [
              "<Figure size 640x480 with 1 Axes>"
            ],
            "image/png": "[encoded data removed]"
          },
          "metadata": {}
        }
      ]
    },
    {
      "cell_type": "code",
      "source": [
        "model.evaluate(x_test, y_test)"
      ],
      "metadata": {
        "execution": {
          "iopub.status.busy": "2024-06-11T19:47:21.649789Z",
          "iopub.status.idle": "2024-06-11T19:47:21.650088Z",
          "shell.execute_reply.started": "2024-06-11T19:47:21.649939Z",
          "shell.execute_reply": "2024-06-11T19:47:21.649951Z"
        },
        "trusted": true,
        "colab": {
          "base_uri": "https://localhost:8080/"
        },
        "id": "3LhGcaqBBhNy",
        "outputId": "ba306e08-813b-4430-e153-a56d8f6762d0"
      },
      "execution_count": 16,
      "outputs": [
        {
          "output_type": "stream",
          "name": "stdout",
          "text": [
            "313/313 [==============================] - 2s 6ms/step - loss: 0.6959 - accuracy: 0.8149\n"
          ]
        },
        {
          "output_type": "execute_result",
          "data": {
            "text/plain": [
              "[0.6959064602851868, 0.8148999810218811]"
            ]
          },
          "metadata": {},
          "execution_count": 16
        }
      ]
    }
  ]
}